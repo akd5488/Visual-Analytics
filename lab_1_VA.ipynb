{
  "nbformat": 4,
  "nbformat_minor": 0,
  "metadata": {
    "colab": {
      "name": "lab 1 VA.ipynb",
      "provenance": [],
      "authorship_tag": "ABX9TyOVozVhuFp93IgpvApBHKX1",
      "include_colab_link": true
    },
    "kernelspec": {
      "name": "python3",
      "display_name": "Python 3"
    }
  },
  "cells": [
    {
      "cell_type": "markdown",
      "metadata": {
        "id": "view-in-github",
        "colab_type": "text"
      },
      "source": [
        "<a href=\"https://colab.research.google.com/github/akd5488/Visual-Analytics/blob/master/lab_1_VA.ipynb\" target=\"_parent\"><img src=\"https://colab.research.google.com/assets/colab-badge.svg\" alt=\"Open In Colab\"/></a>"
      ]
    },
    {
      "cell_type": "markdown",
      "metadata": {
        "id": "jE5YKyVrPesJ",
        "colab_type": "text"
      },
      "source": [
        "### Title\n"
      ]
    },
    {
      "cell_type": "markdown",
      "metadata": {
        "id": "Xofr2cLOQ6Xp",
        "colab_type": "text"
      },
      "source": [
        "Temperature vs Precipitation"
      ]
    },
    {
      "cell_type": "markdown",
      "metadata": {
        "id": "faq5a0uyQFxP",
        "colab_type": "text"
      },
      "source": [
        "### Outline"
      ]
    },
    {
      "cell_type": "markdown",
      "metadata": {
        "id": "Lr0VES0lQ98d",
        "colab_type": "text"
      },
      "source": [
        "This graph will compare how the daily high and low temperatures impact the amount of precipitation recieved, either as snow or rain. Only data from March 2017 will be analyized."
      ]
    },
    {
      "cell_type": "markdown",
      "metadata": {
        "id": "IcI5LIJZQKou",
        "colab_type": "text"
      },
      "source": [
        "### Graph"
      ]
    },
    {
      "cell_type": "markdown",
      "metadata": {
        "id": "4C9HxbmjREgf",
        "colab_type": "text"
      },
      "source": [
        "![Temperature vs Precipitation Graph](https://raw.githubusercontent.com/akd5488/Visual-Analytics/images/lab1.pdf)"
      ]
    },
    {
      "cell_type": "markdown",
      "metadata": {
        "id": "dqo2jcUeQNTK",
        "colab_type": "text"
      },
      "source": [
        "### Conclusion"
      ]
    },
    {
      "cell_type": "markdown",
      "metadata": {
        "id": "Ex1eEW_FS73A",
        "colab_type": "text"
      },
      "source": [
        "The graph sketched shows the realtionship between temperature and if there was rain or snow. Colder days brought snow. The most precipitation was on the coldest days."
      ]
    }
  ]
}