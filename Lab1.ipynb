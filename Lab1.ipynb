{
  "nbformat": 4,
  "nbformat_minor": 0,
  "metadata": {
    "colab": {
      "name": "Lab1.ipynb",
      "provenance": [],
      "authorship_tag": "ABX9TyOMuQFlZsBu3QhkjaO1XKJG",
      "include_colab_link": true
    },
    "kernelspec": {
      "name": "python3",
      "display_name": "Python 3"
    }
  },
  "cells": [
    {
      "cell_type": "markdown",
      "metadata": {
        "id": "view-in-github",
        "colab_type": "text"
      },
      "source": [
        "<a href=\"https://colab.research.google.com/github/akd5488/Visual-Analytics/blob/master/Lab1.ipynb\" target=\"_parent\"><img src=\"https://colab.research.google.com/assets/colab-badge.svg\" alt=\"Open In Colab\"/></a>"
      ]
    },
    {
      "cell_type": "code",
      "metadata": {
        "id": "wmox1kMcwKxZ",
        "colab_type": "code",
        "cellView": "code",
        "colab": {}
      },
      "source": [
        "\n",
        "### Title: Precipitation vs temperature\n",
        "### Outline: This graph will compare how the daily high and low temperatures impact the amount of precipitation recieved, either as snow or rain. Only data from March 2017 will be analyized.\n",
        "\n",
        "\n"
      ],
      "execution_count": 0,
      "outputs": []
    },
    {
      "cell_type": "code",
      "metadata": {
        "id": "7qO697eqHjpI",
        "colab_type": "code",
        "colab": {}
      },
      "source": [
        ""
      ],
      "execution_count": 0,
      "outputs": []
    },
    {
      "cell_type": "markdown",
      "metadata": {
        "id": "WFE4Hgq6G3DT",
        "colab_type": "text"
      },
      "source": [
        "![alt text](https://drive.google.com/open?id=1Jx31hcDTUPWl6kHb2iZmjDTibEgOgu6h)"
      ]
    },
    {
      "cell_type": "markdown",
      "metadata": {
        "id": "AAyMWEtBHRcE",
        "colab_type": "text"
      },
      "source": [
        ""
      ]
    },
    {
      "cell_type": "code",
      "metadata": {
        "id": "1ofiHE7HHoor",
        "colab_type": "code",
        "colab": {}
      },
      "source": [
        "### Conclusion: The graph sketched shows the realtionship between temperature and if there was rain or snow. Colder days brought snow. The most precipitation was on the coldest days."
      ],
      "execution_count": 0,
      "outputs": []
    }
  ]
}