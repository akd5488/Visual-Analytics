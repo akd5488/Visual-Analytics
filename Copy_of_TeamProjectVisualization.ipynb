{
  "nbformat": 4,
  "nbformat_minor": 0,
  "metadata": {
    "colab": {
      "name": "Copy of TeamProjectVisualization.ipynb",
      "provenance": [],
      "include_colab_link": true
    },
    "kernelspec": {
      "name": "python3",
      "display_name": "Python 3"
    }
  },
  "cells": [
    {
      "cell_type": "markdown",
      "metadata": {
        "id": "view-in-github",
        "colab_type": "text"
      },
      "source": [
        "<a href=\"https://colab.research.google.com/github/akd5488/Visual-Analytics/blob/master/Copy_of_TeamProjectVisualization.ipynb\" target=\"_parent\"><img src=\"https://colab.research.google.com/assets/colab-badge.svg\" alt=\"Open In Colab\"/></a>"
      ]
    },
    {
      "cell_type": "markdown",
      "metadata": {
        "id": "Kw5PZBtl0Ob6",
        "colab_type": "text"
      },
      "source": [
        "COVID-19's Impact on Unemployment"
      ]
    },
    {
      "cell_type": "markdown",
      "metadata": {
        "id": "iXWAmSVB0Rno",
        "colab_type": "text"
      },
      "source": [
        "Contributors:\n",
        "\n",
        "\n",
        "*   Adam Donofrio\n",
        "*   Louis Sentman\n",
        "*   Bryce Hoffman\n",
        "\n",
        "\n",
        "\n"
      ]
    },
    {
      "cell_type": "markdown",
      "metadata": {
        "id": "WpaW-i5l0ZHn",
        "colab_type": "text"
      },
      "source": [
        "## Background"
      ]
    },
    {
      "cell_type": "markdown",
      "metadata": {
        "id": "E4VKsOvP0eev",
        "colab_type": "text"
      },
      "source": [
        "Through living through this ongoing crisis, of the Covid-19 Pandemic, the team posed themselves with many questions. The team wondered how other things in the world and specifically America are being affected because of this pandemic. Topics such as, Gun violence in America, domestic violence in america, Terrorism throught the world, Starvation rates in america, and unemployment rates in America. With so many interesting topics the team had difficulty choosing just one. However, the availability of current, accurate, and relevant data was the deciding factor for the team. The team decided to look at how the Covid-19 Pandemic is affecting unemployment in America.\n",
        "\n",
        "Through comprehensive research and examining of the data from the beuro of labor statistics, and Tableu’s Covid-19 dataset we compiled a comprehensive graphic that demonstrates the initial effects that the Covid-19 crisis is placing on America’s labor system.  \n",
        "\tAs demonstrated in our graphic below, the impact from the Covid-19 Pandemic has not fully reached America’s Unemployment system. With that being said that does not mean that Covid-19 has displaced workers in America. It simply means that those workers as of the beginning of April 2020 have not flooded the unemployment claim system. \n",
        "\tThere are flaws to every venture in statistics no matter how large or small. Due to limitations of monthly reporting on unemployment rates it is extremely difficult to create a real time report for an unfolding situation when the data is 4 weeks old. With that being said the team has done their best to clearly depict relevant, accurate data in an aesthetically pleasing manner.\n"
      ]
    },
    {
      "cell_type": "markdown",
      "metadata": {
        "id": "7d8vfcGufV0_",
        "colab_type": "text"
      },
      "source": [
        "### Goal"
      ]
    },
    {
      "cell_type": "markdown",
      "metadata": {
        "id": "e1jKSGTjfY2H",
        "colab_type": "text"
      },
      "source": [
        "The overall goal of this case study is looking at the data sets for current COVID-19 cases versus the unemployment rate data is to demonstrate how the current crisis of COVID-19 has affected the U.S. unemployment numbers.\n",
        "\n"
      ]
    },
    {
      "cell_type": "markdown",
      "metadata": {
        "id": "GOxy_TvCfi54",
        "colab_type": "text"
      },
      "source": [
        "### Assumptions"
      ]
    },
    {
      "cell_type": "markdown",
      "metadata": {
        "id": "cw1v_1MMfnAR",
        "colab_type": "text"
      },
      "source": [
        "\n",
        "The data is accurate\n",
        "\n",
        "*   The data is accurate.\n",
        "*   The data is current.\n",
        "*   The data is relevant.\n",
        "*   The sources are reputable.\n",
        "*   The graphic created is useful.\n",
        "*   The graphic created is representative of the data.\n",
        "*   The graphic is unbaised.\n",
        "*   The data is not politically biased.\n",
        "*   The sources are not biased.\n",
        "*   The sources are using offical data.\n"
      ]
    },
    {
      "cell_type": "markdown",
      "metadata": {
        "id": "jKGILpu7gWr6",
        "colab_type": "text"
      },
      "source": [
        "### Data Sources"
      ]
    },
    {
      "cell_type": "markdown",
      "metadata": {
        "id": "uwCao7AtgbNn",
        "colab_type": "text"
      },
      "source": [
        "The following two sources provided two seperate datasets that were joined together using an inner join. The names of the states are in both data set and were used to link the two datasets together. \n",
        "\n",
        "\n",
        " \tThe first dataset provides very current data on the novel coronavirus. There is a lot of data about the coronavirus available, and some of it may not be trustworthy. This data comes from the Johns Hopkins University Center for Systems Science and Engineering. They provide accurate and trustworthy data. John Hopkins is a prestigious university, and they are at the forefront of providing data to the world about the coronavirus. Their data has been cited in multiple graphs. Another reason this data set was selected, in the amount of data available in the dataset. There is a lot more than just the number of confirmed cases, the data can be broken down into states and counties. The data also has the populations of each state available. \n",
        "\n",
        "The second dataset has been from the US Bureau of Labor Statistics. The government is one of, if not the, best sources for unemployment data. Unemployment has to be filed through the government, so we thought it made sense to find a dataset provided from a government database. The government has access to the most up to date, and accurate, information to make a graph. This dataset was also selected because it has data up until the end of March. We needed data that was in line with the COVID-19, so finding unemployment data that was updating was very important. Covid-19 is relatively new, so some datasets we found online were not updated recently enough to show any potential impacts that the coronavirus has on unemployment. \n"
      ]
    },
    {
      "cell_type": "markdown",
      "metadata": {
        "id": "kDgSdoQUgg2Z",
        "colab_type": "text"
      },
      "source": [
        "#### Sources"
      ]
    },
    {
      "cell_type": "markdown",
      "metadata": {
        "id": "dFzYIi0Agi2_",
        "colab_type": "text"
      },
      "source": [
        "https://www.tableau.com/covid-19-coronavirus-data-resources John Hopkins COVID-19 dataset\n",
        "\n",
        "https://data.bls.gov/cgi-bin/surveymost?bls Unemployment Data from the US Bureau of Labor Statistics"
      ]
    },
    {
      "cell_type": "markdown",
      "metadata": {
        "id": "qcFak2v7g3jt",
        "colab_type": "text"
      },
      "source": [
        "## Dashboard (5)"
      ]
    },
    {
      "cell_type": "code",
      "metadata": {
        "id": "knG79vNP0Q0u",
        "colab_type": "code",
        "outputId": "6d415e18-bb44-48a7-f667-366c0c0792fb",
        "colab": {
          "base_uri": "https://localhost:8080/",
          "height": 953
        }
      },
      "source": [
        "import IPython\n",
        "IPython.display.HTML(\"<div class='tableauPlaceholder' id='viz1587944174280' style='position: relative'><noscript><a href='#'><img alt=' ' src='https:&#47;&#47;public.tableau.com&#47;static&#47;images&#47;TE&#47;TEAMPROJECT&#47;Sheet1&#47;1_rss.png' style='border: none' /></a></noscript><object class='tableauViz'  style='display:none;'><param name='host_url' value='https%3A%2F%2Fpublic.tableau.com%2F' /> <param name='embed_code_version' value='3' /> <param name='site_root' value='' /><param name='name' value='TEAMPROJECT&#47;Sheet1' /><param name='tabs' value='no' /><param name='toolbar' value='yes' /><param name='static_image' value='https:&#47;&#47;public.tableau.com&#47;static&#47;images&#47;TE&#47;TEAMPROJECT&#47;Sheet1&#47;1.png' /> <param name='animate_transition' value='yes' /><param name='display_static_image' value='yes' /><param name='display_spinner' value='yes' /><param name='display_overlay' value='yes' /><param name='display_count' value='yes' /><param name='filter' value='publish=yes' /></object></div>                <script type='text/javascript'>                    var divElement = document.getElementById('viz1587944174280');                    var vizElement = divElement.getElementsByTagName('object')[0];                    vizElement.style.width='100%';vizElement.style.height=(divElement.offsetWidth*0.75)+'px';                    var scriptElement = document.createElement('script');                    scriptElement.src = 'https://public.tableau.com/javascripts/api/viz_v1.js';                    vizElement.parentNode.insertBefore(scriptElement, vizElement);                </script>\")\n"
      ],
      "execution_count": 0,
      "outputs": [
        {
          "output_type": "execute_result",
          "data": {
            "text/html": [
              "<div class='tableauPlaceholder' id='viz1587944174280' style='position: relative'><noscript><a href='#'><img alt=' ' src='https:&#47;&#47;public.tableau.com&#47;static&#47;images&#47;TE&#47;TEAMPROJECT&#47;Sheet1&#47;1_rss.png' style='border: none' /></a></noscript><object class='tableauViz'  style='display:none;'><param name='host_url' value='https%3A%2F%2Fpublic.tableau.com%2F' /> <param name='embed_code_version' value='3' /> <param name='site_root' value='' /><param name='name' value='TEAMPROJECT&#47;Sheet1' /><param name='tabs' value='no' /><param name='toolbar' value='yes' /><param name='static_image' value='https:&#47;&#47;public.tableau.com&#47;static&#47;images&#47;TE&#47;TEAMPROJECT&#47;Sheet1&#47;1.png' /> <param name='animate_transition' value='yes' /><param name='display_static_image' value='yes' /><param name='display_spinner' value='yes' /><param name='display_overlay' value='yes' /><param name='display_count' value='yes' /><param name='filter' value='publish=yes' /></object></div>                <script type='text/javascript'>                    var divElement = document.getElementById('viz1587944174280');                    var vizElement = divElement.getElementsByTagName('object')[0];                    vizElement.style.width='100%';vizElement.style.height=(divElement.offsetWidth*0.75)+'px';                    var scriptElement = document.createElement('script');                    scriptElement.src = 'https://public.tableau.com/javascripts/api/viz_v1.js';                    vizElement.parentNode.insertBefore(scriptElement, vizElement);                </script>"
            ],
            "text/plain": [
              "<IPython.core.display.HTML object>"
            ]
          },
          "metadata": {
            "tags": []
          },
          "execution_count": 1
        }
      ]
    },
    {
      "cell_type": "markdown",
      "metadata": {
        "id": "SvWfnlDjnos1",
        "colab_type": "text"
      },
      "source": [
        "## Conclusion"
      ]
    },
    {
      "cell_type": "markdown",
      "metadata": {
        "id": "rfWefr2gnxOG",
        "colab_type": "text"
      },
      "source": [
        "\n",
        "Conclusion: The coronavirus outbreak is a very unique situation not only for the United States but the entire world. Over roughly 2 months the unemployment numbers have reached a staggering 6.5 million for the United States which is an all time high and it has never been more in entire history. After looking at the data given on the graphics above it can be seen after analysis that as time moved on and as the coronavirus got worse and worse it impacted unemployment even more. There are many external factors that have impacted the coronavirus which has then in turn had a great impact on employment numbers. The coronavirus has shut down businesses in nearly every state which has resulted in a major economic destruction with next to no Americans being left with a job. It is believed the actual job losses are thus far much worse than the numbers being reported and it is widely believed that the job loss will continue to decrease. The Federal Reserve tried to break that pattern on Thursday with an ambitious plan to help companies and state and local governments get more access to funding. \n",
        "The Fed said its new and expanded programs could print an extra 2.3 trillion into the economy. The central bank’s intervention was welcomed in financial markets, with the S&P 500 stock index ending the day with a gain of almost 1.5 percent. Additional help from Washington hit a Senate roadblock over what to include and was a usual battle of sides left versus right. Republicans have proposed 250 billion to a loan program for distressed small businesses, while Democrats want $250 billion more to assist hospitals and state and local governments dealing with coronavirus related expenses. What it will take to stabilize the economy is no more than guesswork, many analysts say. The purposeful and sudden halt in economic activity has no future, and no one knows when the restrictions on movement and commerce enacted to slow infections will be lifted\n",
        ". Each state has gotten some aid to help with outrageous unemployment numbers from federal loans. Hugely populous states including New York, California, and Illinois enacted “stay at home” measures last month that required many nonessential businesses to close and residents to limit their public interactions. But Florida, home to 21 million residents and the third-most populated state in the country, did not enact its own stay at home orders until April 3, an action that might have come too late to prevent a large outbreak. A number of other states, including Texas and South Carolina, have yet to close many businesses or mandate that people stay home. Numerous models suggest these actions are the key to lessening the stress on hospitals and flattening the curve. All in all, after taking in all the considerations and affects the coronavirus has had on the United States the effect that it has had on unemployment is definitely where it hit the hardest. For a better visualization on unemployment versus coronavirus you can look at the graph(s) above and see the easy visualization and comparison of which its information has been gathered from 2 very reputable sources."
      ]
    },
    {
      "cell_type": "code",
      "metadata": {
        "id": "GiYDwrUYn0k0",
        "colab_type": "code",
        "colab": {}
      },
      "source": [
        ""
      ],
      "execution_count": 0,
      "outputs": []
    }
  ]
}